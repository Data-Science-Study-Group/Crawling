{
 "cells": [
  {
   "cell_type": "markdown",
   "metadata": {},
   "source": [
    "## CGV 상영시간표에서 영화 제목 크롤링"
   ]
  },
  {
   "cell_type": "markdown",
   "metadata": {},
   "source": [
    "#### 1. requests로 CGV 페이지 정보 가져오기(2020.01.03 기준)\n",
    "#### 2. bs4로 상영시간표 영화 제목 크롤링하기"
   ]
  },
  {
   "cell_type": "code",
   "execution_count": 1,
   "metadata": {},
   "outputs": [],
   "source": [
    "import requests\n",
    "from bs4 import BeautifulSoup\n",
    "\n",
    "# url 연결\n",
    "url = 'http://www.cgv.co.kr/common/showtimes/iframeTheater.aspx?areacode=01&theatercode=0013&date=20200103'\n",
    "html = requests.get(url)"
   ]
  },
  {
   "cell_type": "code",
   "execution_count": 2,
   "metadata": {},
   "outputs": [
    {
     "name": "stdout",
     "output_type": "stream",
     "text": [
      "<strong>\n",
      "                                                시동</strong>\n"
     ]
    }
   ],
   "source": [
    "soup = BeautifulSoup(html.text, 'html.parser')\n",
    "\n",
    "# 첫 번째 상영 영화 제목 크롤링해보기\n",
    "# 개발자도구에서 원하는 위치 오른쪽 마우스 클릭 후 Copy > Copy selector\n",
    "print(soup.select_one('body > div > div.sect-showtimes > ul > li:nth-child(1) > div > div.info-movie > a > strong'))"
   ]
  },
  {
   "cell_type": "code",
   "execution_count": 3,
   "metadata": {},
   "outputs": [
    {
     "name": "stdout",
     "output_type": "stream",
     "text": [
      "<strong>\n",
      "                                                시동</strong>\n",
      "<strong>\n",
      "                                                겨울왕국 2</strong>\n",
      "<strong>\n",
      "                                                포드 V 페라리</strong>\n",
      "<strong>\n",
      "                                                신비아파트 극장판 하늘도깨비 대 요르문간드</strong>\n",
      "<strong>\n",
      "                                                나이브스 아웃</strong>\n",
      "<strong>\n",
      "                                                백두산</strong>\n",
      "<strong>\n",
      "                                                미드웨이</strong>\n",
      "<strong>\n",
      "                                                천문- 하늘에 묻는다</strong>\n",
      "<strong>\n",
      "                                                피아니스트의 전설</strong>\n",
      "<strong>\n",
      "                                                파바로티</strong>\n",
      "<strong>\n",
      "                                                고흐, 영원의 문에서</strong>\n",
      "<strong>\n",
      "                                                캣츠</strong>\n",
      "<strong>\n",
      "                                                미안해요, 리키</strong>\n"
     ]
    }
   ],
   "source": [
    "title_list = soup.select('div.info-movie')\n",
    "\n",
    "for i in title_list:\n",
    "    print(i.select_one('a > strong'))"
   ]
  },
  {
   "cell_type": "code",
   "execution_count": 4,
   "metadata": {},
   "outputs": [
    {
     "name": "stdout",
     "output_type": "stream",
     "text": [
      "시동\n",
      "겨울왕국 2\n",
      "포드 V 페라리\n",
      "신비아파트 극장판 하늘도깨비 대 요르문간드\n",
      "나이브스 아웃\n",
      "백두산\n",
      "미드웨이\n",
      "천문- 하늘에 묻는다\n",
      "피아니스트의 전설\n",
      "파바로티\n",
      "고흐, 영원의 문에서\n",
      "캣츠\n",
      "미안해요, 리키\n"
     ]
    }
   ],
   "source": [
    "#영화제목만 크롤링하기\n",
    "for i in title_list:\n",
    "    print(i.select_one('a > strong').text.strip())"
   ]
  }
 ],
 "metadata": {
  "kernelspec": {
   "display_name": "Python 3",
   "language": "python",
   "name": "python3"
  },
  "language_info": {
   "codemirror_mode": {
    "name": "ipython",
    "version": 3
   },
   "file_extension": ".py",
   "mimetype": "text/x-python",
   "name": "python",
   "nbconvert_exporter": "python",
   "pygments_lexer": "ipython3",
   "version": "3.7.3"
  }
 },
 "nbformat": 4,
 "nbformat_minor": 2
}

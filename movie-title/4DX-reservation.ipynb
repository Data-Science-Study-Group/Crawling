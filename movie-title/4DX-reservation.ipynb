{
 "cells": [
  {
   "cell_type": "markdown",
   "metadata": {},
   "source": [
    "#### 3.4DX 영화 예매 오픈 여부 크롤링하기"
   ]
  },
  {
   "cell_type": "code",
   "execution_count": 1,
   "metadata": {},
   "outputs": [
    {
     "name": "stdout",
     "output_type": "stream",
     "text": [
      "<span class=\"forDX\">4DX</span>\n"
     ]
    }
   ],
   "source": [
    "import requests\n",
    "from bs4 import BeautifulSoup\n",
    "\n",
    "url = 'http://www.cgv.co.kr/common/showtimes/iframeTheater.aspx?areacode=01&theatercode=0013&date=20191229'\n",
    "html = requests.get(url)\n",
    "soup = BeautifulSoup(html.text, 'html.parser')\n",
    "print(soup.select_one('span.forDX'))"
   ]
  },
  {
   "cell_type": "code",
   "execution_count": 2,
   "metadata": {},
   "outputs": [
    {
     "name": "stdout",
     "output_type": "stream",
     "text": [
      "4DX 예매가 열렸습니다.\n"
     ]
    }
   ],
   "source": [
    "forDX = soup.select_one('span.forDX')\n",
    "\n",
    "if(forDX):\n",
    "    print(\"4DX 예매가 열렸습니다.\")\n",
    "else:\n",
    "    print(\"4DX 예매가 아직 열리지 않았습니다.\")"
   ]
  },
  {
   "cell_type": "markdown",
   "metadata": {},
   "source": [
    "#### 4. 예매 오픈된 4DX 영화 제목 크롤링하기"
   ]
  },
  {
   "cell_type": "code",
   "execution_count": 3,
   "metadata": {},
   "outputs": [
    {
     "name": "stdout",
     "output_type": "stream",
     "text": [
      "백두산 4DX 예매가 열렸습니다.\n"
     ]
    }
   ],
   "source": [
    "if(forDX):\n",
    "    forDX = forDX.find_parent('div', class_='col-times')\n",
    "    title = forDX.select_one('div.info-movie > a > strong').text.strip()\n",
    "    print(title + \" 4DX 예매가 열렸습니다.\")\n",
    "else:\n",
    "    print(\"4DX 예매가 아직 열리지 않았습니다.\")"
   ]
  }
 ],
 "metadata": {
  "kernelspec": {
   "display_name": "Python 3",
   "language": "python",
   "name": "python3"
  },
  "language_info": {
   "codemirror_mode": {
    "name": "ipython",
    "version": 3
   },
   "file_extension": ".py",
   "mimetype": "text/x-python",
   "name": "python",
   "nbconvert_exporter": "python",
   "pygments_lexer": "ipython3",
   "version": "3.7.3"
  }
 },
 "nbformat": 4,
 "nbformat_minor": 2
}

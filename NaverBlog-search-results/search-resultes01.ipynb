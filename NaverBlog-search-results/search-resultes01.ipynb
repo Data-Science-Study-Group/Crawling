{
 "cells": [
  {
   "cell_type": "markdown",
   "metadata": {},
   "source": [
    "## 네이버 블로그 검색결과 크롤러 만들기(1)"
   ]
  },
  {
   "cell_type": "markdown",
   "metadata": {},
   "source": [
    "__[단점]__\n",
    "1. 한 페이만 분석 가능\n",
    "2. 페이지 url을 직접 입력해야함\n",
    "\n",
    "ex. 검색창에 github을 입력한 경우"
   ]
  },
  {
   "cell_type": "code",
   "execution_count": 1,
   "metadata": {},
   "outputs": [],
   "source": [
    "import urllib.request\n",
    "from bs4 import BeautifulSoup\n",
    "\n",
    "#네이버 검색창에 'github'을 검색했을 때 나오는 블로그\n",
    "url = 'https://search.naver.com/search.naver?where=post&sm=tab_jum&query=github'\n",
    "html = urllib.request.urlopen(url).read()\n",
    "soup = BeautifulSoup(html, 'html.parser')"
   ]
  },
  {
   "cell_type": "code",
   "execution_count": 2,
   "metadata": {},
   "outputs": [
    {
     "name": "stdout",
     "output_type": "stream",
     "text": [
      "[Github] 1. 깃헙(github) 입문하기\n",
      "https://blog.naver.com/nilsine11202?Redirect=Log&logNo=221738353459\n",
      "\n",
      "CloudBees Flow 릴리즈/파이프라인 (2) - Jenkins 파이프라인 예제 2:GitHub 연동\n",
      "https://blog.naver.com/mdstec_auto?Redirect=Log&logNo=221750906956\n",
      "\n",
      "[ Unity 깃허브에 커밋하기 ] 유니티로 세계 최대 오픈소스 공유 커뮤니티 Github에 커밋해봅시다 !\n",
      "https://blog.naver.com/absolsonga?Redirect=Log&logNo=221442901750\n",
      "\n",
      "해커, 스냅챗 해킹해 소스코드를 GitHub에 공개 해\n",
      "https://blog.alyac.co.kr/1827?category=750247\n",
      "\n",
      "GitHub로 폴더 및 파일 올리기\n",
      "http://swriterit.kr/221754225086\n",
      "\n",
      "Github.io 만들기 - 2. GitHub.io 생성하기\n",
      "https://tty4032.blog.me/221493955957\n",
      "\n",
      "Github 사용법 및 올리는법 - 시행착오 많이겪음 및 에러 해결\n",
      "https://blog.naver.com/jogilsang?Redirect=Log&logNo=221236806980\n",
      "\n",
      "[생활코딩] 웹호스팅, GitHub pages\n",
      "https://rn1722.blog.me/221564836068\n",
      "\n",
      "git 충돌(confilct)과 github\n",
      "https://blog.naver.com/kimhecan?Redirect=Log&logNo=221737051217\n",
      "\n",
      "[Vivado]Installing Avnet Board Definition Files from GitHub\n",
      "https://blog.naver.com/acidc?Redirect=Log&logNo=221754356011\n",
      "\n"
     ]
    }
   ],
   "source": [
    "title = soup.find_all(class_='sh_blog_title')\n",
    "\n",
    "for i in title:\n",
    "    print(i.attrs['title'])\n",
    "    print(i.attrs['href'])\n",
    "    print()"
   ]
  }
 ],
 "metadata": {
  "kernelspec": {
   "display_name": "Python 3",
   "language": "python",
   "name": "python3"
  },
  "language_info": {
   "codemirror_mode": {
    "name": "ipython",
    "version": 3
   },
   "file_extension": ".py",
   "mimetype": "text/x-python",
   "name": "python",
   "nbconvert_exporter": "python",
   "pygments_lexer": "ipython3",
   "version": "3.7.3"
  }
 },
 "nbformat": 4,
 "nbformat_minor": 2
}

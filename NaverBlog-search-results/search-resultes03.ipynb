{
 "cells": [
  {
   "cell_type": "markdown",
   "metadata": {},
   "source": [
    "## 네이버 블로그 검색결과 크롤러 만들기(3)"
   ]
  },
  {
   "cell_type": "markdown",
   "metadata": {},
   "source": [
    "1. 여러 페이지 크롤링 가능(페이지 수 까지 입력)"
   ]
  },
  {
   "cell_type": "code",
   "execution_count": 1,
   "metadata": {},
   "outputs": [
    {
     "name": "stdin",
     "output_type": "stream",
     "text": [
      "검색어를 입력하세요: github\n",
      "몇 페이지까지 크롤링을 하시겠습니까? :  2\n"
     ]
    },
    {
     "name": "stdout",
     "output_type": "stream",
     "text": [
      "--------------------1페이지 결과입니다.--------------------\n",
      "[Github] 1. 깃헙(github) 입문하기\n",
      "https://blog.naver.com/nilsine11202?Redirect=Log&logNo=221738353459\n",
      "CloudBees Flow 릴리즈/파이프라인 (2) - Jenkins 파이프라인 예제 2:GitHub 연동\n",
      "https://blog.naver.com/mdstec_auto?Redirect=Log&logNo=221750906956\n",
      "[ Unity 깃허브에 커밋하기 ] 유니티로 세계 최대 오픈소스 공유 커뮤니티 Github에 커밋해봅시다 !\n",
      "https://blog.naver.com/absolsonga?Redirect=Log&logNo=221442901750\n",
      "해커, 스냅챗 해킹해 소스코드를 GitHub에 공개 해\n",
      "https://blog.alyac.co.kr/1827?category=750247\n",
      "GitHub로 폴더 및 파일 올리기\n",
      "http://swriterit.kr/221754225086\n",
      "Github.io 만들기 - 2. GitHub.io 생성하기\n",
      "https://tty4032.blog.me/221493955957\n",
      "Github 사용법 및 올리는법 - 시행착오 많이겪음 및 에러 해결\n",
      "https://blog.naver.com/jogilsang?Redirect=Log&logNo=221236806980\n",
      "[생활코딩] 웹호스팅, GitHub pages\n",
      "https://rn1722.blog.me/221564836068\n",
      "git 충돌(confilct)과 github\n",
      "https://blog.naver.com/kimhecan?Redirect=Log&logNo=221737051217\n",
      "[Vivado]Installing Avnet Board Definition Files from GitHub\n",
      "https://blog.naver.com/acidc?Redirect=Log&logNo=221754356011\n",
      "\n",
      "--------------------2페이지 결과입니다.--------------------\n",
      "비쥬얼 스튜디오 2019(Visual Studio) - GitHub 연동\n",
      "https://blog.naver.com/zzang9ha?Redirect=Log&logNo=221659323724\n",
      "Visual Studio 2019에서 github 연동하기\n",
      "https://hsunryou.blog.me/221722207477\n",
      "[UE] 깃헙(GitHub)에서 Unreal Engine 소스코드 다운받기\n",
      "https://sorang226.blog.me/221754874279\n",
      "소스트리, 깃허브(Github) 활용 튜토리얼 2 - 환경 설정\n",
      "https://tomjangho.blog.me/221296351833\n",
      "git과 github 익히기\n",
      "https://blog.naver.com/isaac7263?Redirect=Log&logNo=221751609152\n",
      "[git] github actions를 활용하여 pypi 배포 자동화\n",
      "https://blog.naver.com/pjt3591oo?Redirect=Log&logNo=221708923091\n",
      "github에 등장한 소스 깡패 Bitcoin 0.1BTS 요구 복구 절차.\n",
      "https://erm00.blog.me/221533055605\n",
      "팀 개발을 위한 Git, GitHub 시작하기 - 소스코드 버전 관리를 위한 깃.깃허브, 오픈소스 참여\n",
      "https://zpdl92.blog.me/221752245554\n",
      "깃허브 (github) 데스크톱 버전 사용법\n",
      "https://blog.naver.com/qbxlvnf11?Redirect=Log&logNo=221645286169\n",
      "Eclipse 프로젝트 Github(깃허브)에 올리기(push,commit)\n",
      "https://mismir.blog.me/221718238164\n",
      "\n"
     ]
    }
   ],
   "source": [
    "import urllib.request\n",
    "import urllib.parse\n",
    "from bs4 import BeautifulSoup\n",
    "\n",
    "plusUrl = urllib.parse.quote_plus(input('검색어를 입력하세요:'))\n",
    "end = input('몇 페이지까지 크롤링을 하시겠습니까? : ')\n",
    "\n",
    "pageNum = 1\n",
    "count = 1\n",
    "\n",
    "lastPage = int(end) * 10 - 9\n",
    "while(pageNum < (lastPage + 1)):\n",
    "    url = f'https://search.naver.com/search.naver?date_from=&date_option=0&date_to=&dup_remove=1&nso=&post_blogurl=&post_blogurl_without=&query={plusUrl}&sm=tab_pge&srchby=all&st=sim&where=post&start={pageNum}'\n",
    "\n",
    "    html = urllib.request.urlopen(url).read()\n",
    "    soup = BeautifulSoup(html, 'html.parser')\n",
    "\n",
    "    title = soup.find_all(class_='sh_blog_title')\n",
    "\n",
    "    print(f'--------------------{count}페이지 결과입니다.--------------------')\n",
    "    for i in title:\n",
    "        print(i.attrs['title'])\n",
    "        print(i.attrs['href'])\n",
    "    print()\n",
    "        \n",
    "    pageNum += 10\n",
    "    count += 1"
   ]
  },
  {
   "cell_type": "code",
   "execution_count": null,
   "metadata": {},
   "outputs": [],
   "source": []
  }
 ],
 "metadata": {
  "kernelspec": {
   "display_name": "Python 3",
   "language": "python",
   "name": "python3"
  },
  "language_info": {
   "codemirror_mode": {
    "name": "ipython",
    "version": 3
   },
   "file_extension": ".py",
   "mimetype": "text/x-python",
   "name": "python",
   "nbconvert_exporter": "python",
   "pygments_lexer": "ipython3",
   "version": "3.7.3"
  }
 },
 "nbformat": 4,
 "nbformat_minor": 2
}

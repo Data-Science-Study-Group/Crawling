{
 "cells": [
  {
   "cell_type": "code",
   "execution_count": 2,
   "metadata": {},
   "outputs": [
    {
     "name": "stdout",
     "output_type": "stream",
     "text": [
      "<형식> mon, tue, wed, thu, fri, sat, sun\n"
     ]
    },
    {
     "name": "stdin",
     "output_type": "stream",
     "text": [
      "요일을 입력하세요: mon\n"
     ]
    },
    {
     "name": "stdout",
     "output_type": "stream",
     "text": [
      "아는 여자애\n",
      "요괴대전\n",
      "귀전구담\n",
      "신의 탑\n",
      "윈드브레이커\n",
      "뷰티풀 군바리\n",
      "인생존망\n",
      "평범한 8반\n",
      "귀전구담\n",
      "백수세끼\n",
      "용비불패 완전판\n",
      "데드라이프\n",
      "니편내편\n",
      "악취\n",
      "칼가는 소녀\n",
      "장씨세가 호위...\n",
      "링크보이\n",
      "이것도 친구라고\n",
      "히어로메이커\n",
      "교환일기\n",
      "마왕이 되는 ...\n",
      "요리GO\n",
      "신을 죽이는 ...\n",
      "내 여자친구는...\n",
      "일진이 사나워\n",
      "첫사랑입니다만\n",
      "물레\n",
      "같은도장\n",
      "아이키우는만화\n",
      "지구멸망버튼\n",
      "삶이 우리를 ...\n",
      "피플\n",
      "귀인\n",
      "꿈의 기업\n",
      "닥터 하운드\n",
      "위대한 방옥숙\n",
      "정보전사 202\n",
      "지옥\n",
      "내 어린고양이...\n",
      "요괴대전\n",
      "블루투스\n",
      "하슬라\n",
      "모락모락 왕세...\n",
      "인간의 온도\n",
      "플랫다이어리\n",
      "사소한 냐냐\n",
      "여기 악마가 ...\n",
      "아는 여자애\n",
      "뱀파이어의 꽃\n"
     ]
    }
   ],
   "source": [
    "import urllib\n",
    "from bs4 import BeautifulSoup\n",
    "\n",
    "print('<형식> mon, tue, wed, thu, fri, sat, sun')\n",
    "dayUrl = input('요일을 입력하세요:')\n",
    "baseUrl = 'https://comic.naver.com/webtoon/weekdayList.nhn?week='\n",
    "url = baseUrl + dayUrl\n",
    "\n",
    "html = urllib.request.urlopen(url).read()\n",
    "soup = BeautifulSoup(html, 'html.parser')\n",
    "\n",
    "wt = soup.select('dt')\n",
    "for i in wt:\n",
    "    print(i.get_text().strip())"
   ]
  },
  {
   "cell_type": "code",
   "execution_count": 3,
   "metadata": {},
   "outputs": [
    {
     "name": "stdout",
     "output_type": "stream",
     "text": [
      "<형식> mon, tue, wed, thu, fri, sat, sun\n"
     ]
    },
    {
     "name": "stdin",
     "output_type": "stream",
     "text": [
      "요일을 입력하세요: mon\n"
     ]
    },
    {
     "ename": "KeyError",
     "evalue": "'title'",
     "output_type": "error",
     "traceback": [
      "\u001b[1;31m---------------------------------------------------------------------------\u001b[0m",
      "\u001b[1;31mKeyError\u001b[0m                                  Traceback (most recent call last)",
      "\u001b[1;32m<ipython-input-3-51bf6fbd04de>\u001b[0m in \u001b[0;36m<module>\u001b[1;34m\u001b[0m\n\u001b[0;32m     16\u001b[0m \u001b[0mwt\u001b[0m \u001b[1;33m=\u001b[0m \u001b[0msoup\u001b[0m\u001b[1;33m.\u001b[0m\u001b[0mfind_all\u001b[0m\u001b[1;33m(\u001b[0m\u001b[1;34m'div'\u001b[0m\u001b[1;33m,\u001b[0m \u001b[0mclass_\u001b[0m\u001b[1;33m=\u001b[0m\u001b[1;34m'thumb'\u001b[0m\u001b[1;33m)\u001b[0m\u001b[1;33m\u001b[0m\u001b[1;33m\u001b[0m\u001b[0m\n\u001b[0;32m     17\u001b[0m \u001b[1;32mfor\u001b[0m \u001b[0mi\u001b[0m \u001b[1;32min\u001b[0m \u001b[0mwt\u001b[0m\u001b[1;33m:\u001b[0m\u001b[1;33m\u001b[0m\u001b[1;33m\u001b[0m\u001b[0m\n\u001b[1;32m---> 18\u001b[1;33m     \u001b[0mprint\u001b[0m\u001b[1;33m(\u001b[0m\u001b[0mi\u001b[0m\u001b[1;33m.\u001b[0m\u001b[0mattrs\u001b[0m\u001b[1;33m[\u001b[0m\u001b[1;34m'title'\u001b[0m\u001b[1;33m]\u001b[0m\u001b[1;33m)\u001b[0m\u001b[1;33m\u001b[0m\u001b[1;33m\u001b[0m\u001b[0m\n\u001b[0m",
      "\u001b[1;31mKeyError\u001b[0m: 'title'"
     ]
    }
   ],
   "source": [
    "import urllib\n",
    "from bs4 import BeautifulSoup\n",
    "\n",
    "print('<형식> mon, tue, wed, thu, fri, sat, sun')\n",
    "dayUrl = input('요일을 입력하세요:')\n",
    "baseUrl = 'https://comic.naver.com/webtoon/weekdayList.nhn?week='\n",
    "url = baseUrl + dayUrl\n",
    "\n",
    "html = urllib.request.urlopen(url).read()\n",
    "soup = BeautifulSoup(html, 'html.parser')\n",
    "\n",
    "# wt = soup.find_all(class_='img_list')\n",
    "# for i in wt:\n",
    "#     print(i.a.attrs['title'])\n",
    "\n",
    "wt = soup.find_all('div', class_='thumb')\n",
    "for i in wt:\n",
    "    print(i.attrs['title'])"
   ]
  }
 ],
 "metadata": {
  "kernelspec": {
   "display_name": "Python 3",
   "language": "python",
   "name": "python3"
  },
  "language_info": {
   "codemirror_mode": {
    "name": "ipython",
    "version": 3
   },
   "file_extension": ".py",
   "mimetype": "text/x-python",
   "name": "python",
   "nbconvert_exporter": "python",
   "pygments_lexer": "ipython3",
   "version": "3.7.3"
  }
 },
 "nbformat": 4,
 "nbformat_minor": 2
}

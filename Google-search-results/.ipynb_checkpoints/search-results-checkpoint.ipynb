{
 "cells": [
  {
   "cell_type": "markdown",
   "metadata": {},
   "source": [
    "## 구글 검색결과 크롤러 만들기"
   ]
  },
  {
   "cell_type": "code",
   "execution_count": 1,
   "metadata": {},
   "outputs": [
    {
     "name": "stdin",
     "output_type": "stream",
     "text": [
      "검색어를 입력하세요:  데이터 분석\n"
     ]
    },
    {
     "name": "stdout",
     "output_type": "stream",
     "text": [
      "데이터과학 VS 빅데이터 VS 데이터분석 - Data Driven Marketing\n",
      "http://www.goldenplanet.co.kr/blog/2018/04/24/%EB%8D%B0%EC%9D%B4%ED%84%B0%EA%B3%BC%ED%95%99-%EB%B9%85%EB%8D%B0%EC%9D%B4%ED%84%B0-%EB%8D%B0%EC%9D%B4%ED%84%B0%EB%B6%84%EC%84%9D/\n",
      "\n",
      "데이터 분석하고 싶은데, 통계 공부도 꼭 해야 하나요?\n",
      "http://media.fastcampus.co.kr/knowledge/data-analysis-statistic-study/\n",
      "\n",
      "중견기업이 주목해야 할 데이터 분석 트렌드 TOP 4 | Bloter.net\n",
      "http://www.bloter.net/archives/361690\n",
      "\n",
      "\"데이터 분석 전문가, 어떤 역량이 필요한가요?\" | Bloter.net\n",
      "http://www.bloter.net/archives/322888\n",
      "\n",
      "데이터 분석, SQL만 잘 다뤄도 먹고 들어갑니다. - 브런치\n",
      "https://brunch.co.kr/@minu-log/4\n",
      "\n",
      "데이터 분석의 기초 - 브런치\n",
      "https://brunch.co.kr/@lunarshore/288\n",
      "\n",
      "데이터 분석에 관한 12가지 '팩트체크' - CIO Korea\n",
      "http://www.ciokorea.com/insider/36439\n",
      "\n",
      "데이터 분석, 이제 '남 일' 아니고 내 일! – Samsung Newsroom ...\n",
      "https://news.samsung.com/kr/388683-2\n",
      "\n",
      "01-2. 분석 프로세스 - Python 데이터 분석 실무 - WikiDocs\n",
      "https://wikidocs.net/16561\n",
      "\n"
     ]
    }
   ],
   "source": [
    "from urllib.parse import quote_plus\n",
    "from bs4 import BeautifulSoup\n",
    "from selenium import webdriver\n",
    "\n",
    "baseUrl = 'https://www.google.com/search?q='\n",
    "plusUrl = input('검색어를 입력하세요: ')\n",
    "url = baseUrl + quote_plus(plusUrl)\n",
    "\n",
    "driver = webdriver.Chrome()\n",
    "driver.get(url)\n",
    "\n",
    "html = driver.page_source\n",
    "soup = BeautifulSoup(html)\n",
    "\n",
    "r = soup.select('.r')\n",
    "for i in r:\n",
    "    print(i.select_one('.LC20lb').text)\n",
    "    print(i.a.attrs['href'])\n",
    "    print()\n",
    "    \n",
    "driver.close()"
   ]
  },
  {
   "cell_type": "code",
   "execution_count": null,
   "metadata": {},
   "outputs": [],
   "source": []
  }
 ],
 "metadata": {
  "kernelspec": {
   "display_name": "Python 3",
   "language": "python",
   "name": "python3"
  },
  "language_info": {
   "codemirror_mode": {
    "name": "ipython",
    "version": 3
   },
   "file_extension": ".py",
   "mimetype": "text/x-python",
   "name": "python",
   "nbconvert_exporter": "python",
   "pygments_lexer": "ipython3",
   "version": "3.7.3"
  }
 },
 "nbformat": 4,
 "nbformat_minor": 2
}

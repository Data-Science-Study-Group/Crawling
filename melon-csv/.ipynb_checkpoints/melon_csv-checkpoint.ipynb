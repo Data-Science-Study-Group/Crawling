{
 "cells": [
  {
   "cell_type": "markdown",
   "metadata": {},
   "source": [
    "### 크롤링을 이용한 멜론 사이트 실시간 순위 TOP 100 CSV 파일로 저장하기"
   ]
  },
  {
   "cell_type": "code",
   "execution_count": 6,
   "metadata": {},
   "outputs": [],
   "source": [
    "import urllib.request\n",
    "from bs4 import BeautifulSoup\n",
    "import csv\n",
    "\n",
    "hdr = { 'User-Agent' : 'Mozilla/5.0' }\n",
    "url = 'https://www.melon.com/chart/index.htm'\n",
    "\n",
    "req = urllib.request.Request(url, headers=hdr)\n",
    "html = urllib.request.urlopen(req).read()\n",
    "soup = BeautifulSoup(html, 'html.parser')\n",
    "\n",
    "lst50 = soup.select('.lst50,.lst100')\n",
    "\n",
    "melonList = []\n",
    "for i in lst50:\n",
    "    temp = []\n",
    "    temp.append(i.select_one('.rank').text)\n",
    "    temp.append(i.select_one('.ellipsis.rank01').a.text)\n",
    "    temp.append(i.select_one('.ellipsis.rank02').a.text)\n",
    "    temp.append(i.select_one('.ellipsis.rank03').a.text)\n",
    "    melonList.append(temp)\n",
    "    \n",
    "with open('melon100.csv', 'w', encoding='utf-8', newline='') as f:\n",
    "    writer = csv.writer(f)\n",
    "    writer.writerow(['순위', '아티스트', '곡명', '앨범'])\n",
    "    writer.writerows(melonList)"
   ]
  },
  {
   "cell_type": "code",
   "execution_count": null,
   "metadata": {},
   "outputs": [],
   "source": []
  }
 ],
 "metadata": {
  "kernelspec": {
   "display_name": "Python 3",
   "language": "python",
   "name": "python3"
  },
  "language_info": {
   "codemirror_mode": {
    "name": "ipython",
    "version": 3
   },
   "file_extension": ".py",
   "mimetype": "text/x-python",
   "name": "python",
   "nbconvert_exporter": "python",
   "pygments_lexer": "ipython3",
   "version": "3.7.3"
  }
 },
 "nbformat": 4,
 "nbformat_minor": 2
}
